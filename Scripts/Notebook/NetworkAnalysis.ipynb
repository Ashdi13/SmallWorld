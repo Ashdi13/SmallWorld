{
 "cells": [
  {
   "cell_type": "markdown",
   "metadata": {},
   "source": [
    "# Loading the reuqired libraries"
   ]
  },
  {
   "cell_type": "code",
   "execution_count": 1,
   "metadata": {
    "collapsed": false
   },
   "outputs": [],
   "source": [
    "import pandas as pd\n",
    "import networkx as nx\n",
    "import itertools\n",
    "\n",
    "import os\n",
    "os.chdir('set_the_working_directory')"
   ]
  },
  {
   "cell_type": "markdown",
   "metadata": {},
   "source": [
    "# Reading 2-mode networks\n",
    "In 2-mode networks, we have two disjoint sets of nodes such that no two nodes within the same set are connected. In the sample data, the first column is the \"patient id\" and the second column is the \"provider id\", these two columns form the mentioned two disjoint sets in our 2-mode networks. \n",
    "In the sample dataset, the first letter of the provider ids indicates the role of the provider as follows:\n",
    "* **s**: Surgeon\n",
    "* **a**: Anesthesiologist\n",
    "* **n**: Nurse\n",
    "* **o**: Other"
   ]
  },
  {
   "cell_type": "code",
   "execution_count": 2,
   "metadata": {
    "collapsed": false
   },
   "outputs": [],
   "source": [
    "### reading a 2-mode network\n",
    "two_mode = nx.read_weighted_edgelist('the_data_file', delimiter=',', nodetype=str, encoding='utf-8')\n",
    "two_mode.edges(data=True)\n",
    "\n",
    "# left: provider ids, right: patient ids\n",
    "left, right = nx.bipartite.sets(two_mode)\n",
    "#print list(right) \n",
    "#print list(left) "
   ]
  },
  {
   "cell_type": "markdown",
   "metadata": {},
   "source": [
    "# Projecting the 2-mode network to 1-mode\n",
    "We next project the 2-mode network to a 1-mode network. The 2-mode network is converted to a homologous 1-mode structure by removing the patients from the 1-mode networks. The edges thus denote a connection between healthcare providers via a shared patient encounter. The following figure shows 2-mode to 1-mode network conversion: \n",
    "<img src=\"files/2mode_1mode.png\">"
   ]
  },
  {
   "cell_type": "code",
   "execution_count": 3,
   "metadata": {
    "collapsed": false
   },
   "outputs": [
    {
     "name": "stdout",
     "output_type": "stream",
     "text": [
      "Number of edges:  4432\n",
      "Number of nodes:  490\n",
      "Number of edges in the largest component:  4432\n",
      "Number of nodes in the largest component:  490\n"
     ]
    }
   ],
   "source": [
    "### projecting the 2-mode network to 1-mode network\n",
    "one_mode = nx.projected_graph(two_mode, left)\n",
    "\n",
    "print(\"Number of edges:  %.0f\" %one_mode.size())\n",
    "print(\"Number of nodes:  %.0f\" %one_mode.number_of_nodes())\n",
    "\n",
    "### the largest connected component\n",
    "largest_component = max(nx.connected_component_subgraphs(one_mode), key=len)\n",
    "print(\"Number of edges in the largest component:  %.0f\" %largest_component.size())\n",
    "print(\"Number of nodes in the largest component:  %.0f\" %largest_component.number_of_nodes())"
   ]
  },
  {
   "cell_type": "markdown",
   "metadata": {},
   "source": [
    "# Small-World Network Analysis\n",
    "we need to calculate average clustering coefficeint and average path length in the actual network (i.e. the above one_mode network) as well as in a reference network. We compared the actual networks with two different reference models: \n",
    "1. The Erdős–Rényi random network with the same number of nodes and edges\n",
    "2. The configuration model that allows to create networks with the same degree distribution as the actual networks"
   ]
  },
  {
   "cell_type": "code",
   "execution_count": 5,
   "metadata": {
    "collapsed": false
   },
   "outputs": [
    {
     "name": "stdout",
     "output_type": "stream",
     "text": [
      "=== The Actual Network ===\n",
      "    • Average clustering coefficient: 0.64\n",
      "    • Average shortest path length: 2.69\n"
     ]
    }
   ],
   "source": [
    "### calculating clustering coefficient and path nelgth in the actual network\n",
    "g_cc = nx.average_clustering(largest_component) #actual clustering coefficient\n",
    "g_pl = nx.average_shortest_path_length(largest_component) #actual average path length\n",
    "print(\"=== The Actual Network ===\")\n",
    "print(u\"    \\u2022 Average clustering coefficient: %.2f\" %g_cc)\n",
    "print(u\"    \\u2022 Average shortest path length: %.2f\" %g_pl)"
   ]
  },
  {
   "cell_type": "code",
   "execution_count": 6,
   "metadata": {
    "collapsed": false
   },
   "outputs": [
    {
     "name": "stdout",
     "output_type": "stream",
     "text": [
      "=== Erdos-Renyi Random Network ===\n",
      "    • Number of edges:  6008\n",
      "    • Number of nodes:  490\n",
      "    • Average clustering coefficient: 0.05\n",
      "    • Average shortest path length: 2.23\n",
      "\n",
      "Small-world indicator based on ER random graph: 10.46\n"
     ]
    }
   ],
   "source": [
    "### Erdos-Renyi random graphs\n",
    "g_erdos = nx.erdos_renyi_graph(one_mode.number_of_nodes(), 0.05)\n",
    "print(\"=== Erdos-Renyi Random Network ===\")\n",
    "print(u\"    \\u2022 Number of edges:  %.0f\" %g_erdos.size())\n",
    "print(u\"    \\u2022 Number of nodes:  %.0f\" %g_erdos.number_of_nodes())\n",
    "\n",
    "### calculating the network properties for the Erdos-Renyi graph\n",
    "g_erdos_cc = nx.average_clustering(g_erdos) #random clustering coefficient\n",
    "g_erdos_pl = nx.average_shortest_path_length(g_erdos) #random path length\n",
    "print(u\"    \\u2022 Average clustering coefficient: %.2f\" %g_erdos_cc)\n",
    "print(u\"    \\u2022 Average shortest path length: %.2f\" %g_erdos_pl)\n",
    "\n",
    "print(\"\\nSmall-world indicator based on ER random graph: %.2f\" %((g_cc/g_erdos_cc)/(g_pl/g_erdos_pl)))"
   ]
  },
  {
   "cell_type": "code",
   "execution_count": 29,
   "metadata": {
    "collapsed": false
   },
   "outputs": [
    {
     "name": "stdout",
     "output_type": "stream",
     "text": [
      "=== Configuration Network ===\n",
      "    • Number of edges:  4269\n",
      "    • Number of nodes:  490\n",
      "    • Average clustering coefficient: 0.07\n",
      "    • Average shortest path length: 2.48\n",
      "\n",
      "Small-world indicator based on configuration graph: 8.86\n"
     ]
    }
   ],
   "source": [
    "### Configuration graphs\n",
    "print(\"=== Configuration Network ===\")\n",
    "degree_sequence = list(dict(nx.degree(one_mode)).values()) # degree sequence\n",
    "#print(u\"    \\u2022 Degree sequence %s\" % degree_sequence)\n",
    "\n",
    "# creating the configuration graph with same degree distribution\n",
    "g_conf = nx.configuration_model(degree_sequence)\n",
    "# removing parallel edges\n",
    "g_conf = nx.Graph(g_conf)\n",
    "# removing self-loops\n",
    "g_conf.remove_edges_from(g_conf.selfloop_edges())\n",
    "\n",
    "print(u\"    \\u2022 Number of edges:  %.0f\" %g_conf.size())\n",
    "print(u\"    \\u2022 Number of nodes:  %.0f\" %g_conf.number_of_nodes())\n",
    "\n",
    "### calculating the network properties for the configuration graph\n",
    "g_conf_cc = nx.average_clustering(g_conf) #configuration graph clustering coefficient\n",
    "g_conf_pl = nx.average_shortest_path_length(g_conf) #configuration graph average path length\n",
    "print(u\"    \\u2022 Average clustering coefficient: %.2f\" %g_conf_cc)\n",
    "print(u\"    \\u2022 Average shortest path length: %.2f\" %g_conf_pl)\n",
    "\n",
    "print(\"\\nSmall-world indicator based on configuration graph: %.2f\" %((g_cc/g_conf_cc)/(g_pl/g_conf_pl)))\n",
    "################################"
   ]
  },
  {
   "cell_type": "markdown",
   "metadata": {},
   "source": [
    "# Cohesion Analysis\n",
    "Cohesion is defined as relatively dense and highly connected subgroups in a network where members are extensively and very frequently in contact, and relate easier to the members of their own subgroup than the ones of other subgroups. We calculated the following measures to assess network cohesiveness: \n",
    "* Number of triangles, i.e. number of three nodes that are all adjacent\n",
    "* Network density, i.e. the ratio of actual connections to all possible connections\n",
    "* The structural holes, represented by the aggregate constraint measure "
   ]
  },
  {
   "cell_type": "code",
   "execution_count": 19,
   "metadata": {
    "collapsed": false
   },
   "outputs": [
    {
     "name": "stdout",
     "output_type": "stream",
     "text": [
      "Number of triangles: 13310\n",
      "Density: 0.037\n"
     ]
    }
   ],
   "source": [
    "### Calculating number of triangles\n",
    "def g_iterator(network):\n",
    "    for node in network.nodes():  # change \"nodes\" to \"nodes_iter\" in networkx versions < 2.0\n",
    "        neighbors = network.neighbors(node)\n",
    "        for pair in itertools.combinations(neighbors, 2):\n",
    "            yield(node, pair)\n",
    "\n",
    "def count_triangles(network):\n",
    "    count = 0\n",
    "    for p in g_iterator(network):\n",
    "        if (network.has_edge(p[1][0], p[1][1]) or network.has_edge(p[1][1], p[1][0])):\n",
    "            count += 1\n",
    "    return count/3\n",
    "\n",
    "print(\"Number of triangles: %.0f\" %count_triangles(one_mode))\n",
    "\n",
    "### Calculating network density\n",
    "print(\"Density: %.3f\" %nx.density(one_mode))"
   ]
  },
  {
   "cell_type": "code",
   "execution_count": 6,
   "metadata": {
    "collapsed": false
   },
   "outputs": [],
   "source": [
    "### Structural holes, aggregate constraint\n",
    "# Returns the sum of the weights of the edge from `u` to `v` and the edge from `v` to `u` in the network\n",
    "def mutual_weight(network, u, v, weight=None):\n",
    "    try:\n",
    "        a_uv = network[u][v].get(weight, 1)\n",
    "    except KeyError:\n",
    "        a_uv = 0\n",
    "    try:\n",
    "        a_vu = network[v][u].get(weight, 1)\n",
    "    except KeyError:\n",
    "        a_vu = 0\n",
    "    return (a_uv + a_vu)\n",
    "\n",
    "# Returns normalized mutual weight of the edges from u to v with respect to the mutual weights of the neighbors of u in network\n",
    "def normalized_mutual_weight(network, u, v, norm=sum):\n",
    "    scale = norm(mutual_weight(network, u, w)\n",
    "                 for w in set(nx.all_neighbors(network, u)))\n",
    "    return 0 if scale == 0 else mutual_weight(network, u, v) / scale\n",
    "\n",
    "# Returns the local constraint on the node u with respect to the node v in the network\n",
    "def local_constraint(network, u, v):\n",
    "    nmw = normalized_mutual_weight\n",
    "    direct = nmw(network, u, v)\n",
    "    indirect = sum(nmw(network, u, w) * nmw(network, w, v)\n",
    "                   for w in set(nx.all_neighbors(network, u)))\n",
    "    return (direct + indirect) ** 2\n",
    "\n",
    "# Returns the constraint on all nodes in the network\n",
    "def constraint(network):\n",
    "    constraint = {}\n",
    "    for v in network:\n",
    "        # Constraint is not defined for isolated nodes\n",
    "        if len(network[v]) == 0:\n",
    "            constraint[v] = float('nan')\n",
    "            continue\n",
    "        constraint[v] = sum(local_constraint(network, v, n)\n",
    "                            for n in set(nx.all_neighbors(network, v)))\n",
    "    return constraint\n",
    "\n",
    "cons = constraint(one_mode)\n",
    "# converting the dictionary to dataframe\n",
    "cons = pd.DataFrame(cons.items(), columns=['provider', 'constraint'])\n",
    "\n",
    "# calculating the aggregate constraint for surgeons\n",
    "df = cons[cons.provider.str.startswith(('sPRV'))]\n",
    "surgeon_constraint_total = df['constraint'].sum()\n",
    "\n",
    "# calculating the aggregate constraint for anesthesiologists\n",
    "df = cons[cons.provider.str.startswith(('aPRV'))]\n",
    "anesth_constraint_total = df['constraint'].sum()\n",
    "\n",
    "# calculating the aggregate constraint for nurses\n",
    "df = cons[cons.provider.str.startswith(('nPRV'))]\n",
    "nurse_constraint_total = df['constraint'].sum()"
   ]
  }
 ],
 "metadata": {
  "kernelspec": {
   "display_name": "Python 2",
   "language": "python",
   "name": "python2"
  },
  "language_info": {
   "codemirror_mode": {
    "name": "ipython",
    "version": 2
   },
   "file_extension": ".py",
   "mimetype": "text/x-python",
   "name": "python",
   "nbconvert_exporter": "python",
   "pygments_lexer": "ipython2",
   "version": "2.7.13"
  }
 },
 "nbformat": 4,
 "nbformat_minor": 0
}
